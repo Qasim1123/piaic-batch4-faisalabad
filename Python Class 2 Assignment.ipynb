{
 "cells": [
  {
   "cell_type": "code",
   "execution_count": 1,
   "metadata": {},
   "outputs": [],
   "source": [
    "radius=5\n",
    "pi=3.14"
   ]
  },
  {
   "cell_type": "code",
   "execution_count": 3,
   "metadata": {},
   "outputs": [
    {
     "name": "stdout",
     "output_type": "stream",
     "text": [
      "78.5\n"
     ]
    }
   ],
   "source": [
    "Area_of_Circle=pi*radius*radius\n",
    "print(Area_of_Circle)"
   ]
  },
  {
   "cell_type": "markdown",
   "metadata": {},
   "source": [
    "   # Second Part"
   ]
  },
  {
   "cell_type": "code",
   "execution_count": 4,
   "metadata": {},
   "outputs": [],
   "source": [
    "cities=[\"Faisalabad\",\"Isalamabad\",\"Karachi\",\"Lahore\",\"Quetta\"]\n",
    "result=[93.4,95,98.7,87.4,83.02]\n",
    "score=[45,70,54,90,42]"
   ]
  },
  {
   "cell_type": "code",
   "execution_count": 6,
   "metadata": {},
   "outputs": [
    {
     "name": "stdout",
     "output_type": "stream",
     "text": [
      "cities-> ['Faisalabad', 'Isalamabad', 'Karachi', 'Lahore', 'Quetta'] \n",
      "result-> [93.4, 95, 98.7, 87.4, 83.02] \n",
      "score-> [45, 70, 54, 90, 42]\n"
     ]
    }
   ],
   "source": [
    "print(\"cities->\",cities,\"\\nresult->\",result,\"\\nscore->\",score)"
   ]
  }
 ],
 "metadata": {
  "kernelspec": {
   "display_name": "Python 3",
   "language": "python",
   "name": "python3"
  },
  "language_info": {
   "codemirror_mode": {
    "name": "ipython",
    "version": 3
   },
   "file_extension": ".py",
   "mimetype": "text/x-python",
   "name": "python",
   "nbconvert_exporter": "python",
   "pygments_lexer": "ipython3",
   "version": "3.7.4"
  }
 },
 "nbformat": 4,
 "nbformat_minor": 2
}
