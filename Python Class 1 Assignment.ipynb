{
 "cells": [
  {
   "cell_type": "code",
   "execution_count": 7,
   "metadata": {},
   "outputs": [],
   "source": [
    "Name= \"Qasim Maqbool\"\n",
    "Age= 21\n",
    "Class=\"Artificial Intellience\"\n",
    "University= \"University of Faisalabad\""
   ]
  },
  {
   "cell_type": "code",
   "execution_count": 8,
   "metadata": {},
   "outputs": [
    {
     "name": "stdout",
     "output_type": "stream",
     "text": [
      "Hello Qasim Maqbool \n",
      "Your application is accepted for Artificial Intellience in University of Faisalabad\n"
     ]
    }
   ],
   "source": [
    "print(\"Hello\",Name,\"\\nYour application is accepted for\",Class,\"in\",University)"
   ]
  }
 ],
 "metadata": {
  "kernelspec": {
   "display_name": "Python 3",
   "language": "python",
   "name": "python3"
  },
  "language_info": {
   "codemirror_mode": {
    "name": "ipython",
    "version": 3
   },
   "file_extension": ".py",
   "mimetype": "text/x-python",
   "name": "python",
   "nbconvert_exporter": "python",
   "pygments_lexer": "ipython3",
   "version": "3.7.4"
  }
 },
 "nbformat": 4,
 "nbformat_minor": 2
}
